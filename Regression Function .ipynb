{
 "cells": [
  {
   "cell_type": "markdown",
   "metadata": {},
   "source": [
    "**Libraries Needed**"
   ]
  },
  {
   "cell_type": "code",
   "execution_count": 788,
   "metadata": {},
   "outputs": [],
   "source": [
    "#Pandas & NumPy & SciPy \n",
    "import numpy as np\n",
    "import pandas as pd\n",
    "\n",
    "#Preprocessing \n",
    "from sklearn.preprocessing import StandardScaler\n",
    "from sklearn.preprocessing import LabelEncoder\n",
    "\n",
    "#Model Selection\n",
    "from sklearn.model_selection import train_test_split\n",
    "from sklearn.model_selection import GridSearchCV\n",
    "from sklearn.feature_selection import SelectKBest\n",
    "from sklearn.feature_selection import f_classif\n",
    "\n",
    "#Metrics\n",
    "from sklearn.metrics import mean_squared_error\n",
    "from sklearn.metrics import r2_score\n",
    "from sklearn.metrics import accuracy_score \n",
    "from scipy.stats import shapiro\n",
    "\n",
    "#Plots\n",
    "import matplotlib.pyplot as plt\n",
    "import seaborn as sns\n",
    "\n",
    "#Regression\n",
    "from sklearn.linear_model import LinearRegression\n",
    "from sklearn.linear_model import Ridge\n",
    "from sklearn.linear_model import Lasso"
   ]
  },
  {
   "cell_type": "markdown",
   "metadata": {},
   "source": [
    "****"
   ]
  },
  {
   "cell_type": "markdown",
   "metadata": {},
   "source": [
    "### Linear Regression Final Project - Regression Software"
   ]
  },
  {
   "cell_type": "markdown",
   "metadata": {},
   "source": [
    "* **Function 1**"
   ]
  },
  {
   "cell_type": "markdown",
   "metadata": {},
   "source": [
    "`preprocess(dataset,target,separator)` : removes null values, encodes target if it is an object , splits the data into train and test & scales the data \n",
    "* __dataset__ - dataset of choice\n",
    "* __separator__ - how your data is separated ( __' ; '__ , __' , '__ , __' '__) , initially set to `none`\n",
    "* __target__ - target variable "
   ]
  },
  {
   "cell_type": "code",
   "execution_count": 773,
   "metadata": {},
   "outputs": [],
   "source": [
    "def preprocess(dataset,target,separator = None): \n",
    "    \n",
    "    df = pd.read_csv(dataset, sep = separator)\n",
    "    \n",
    "    filtered_df = df.dropna(axis=1) #Drops all missing values \n",
    "    \n",
    "    #If variable is an object, then encode it\n",
    "    \n",
    "    \n",
    "    encoded_df = filtered_df.select_dtypes(include='object') #Gets all columns with an object type\n",
    "    \n",
    "    if target in encoded_df: #If our target is of dtype object\n",
    "        \n",
    "        le = LabelEncoder() #Label encoder instance\n",
    "        filtered_df['Encoded'] = le.fit_transform(encoded_df[target]) #Making encoded column of object column\n",
    "        del filtered_df[target] #Deleting the column of object type \n",
    "        target = 'Encoded' #Our new target column, the encoded column\n",
    "    \n",
    "    \n",
    "    \n",
    "    X = filtered_df.drop(target,axis=1).values #All other features \n",
    "    Y = filtered_df[[target]].values #Target Response\n",
    "    \n",
    "    #Splitting into train and test (20% test)\n",
    "    train_x, test_x, train_y, test_y = train_test_split(X, Y, test_size = 0.2, random_state = 0) \n",
    "    \n",
    "    #Scales the data\n",
    "    scaler = StandardScaler()\n",
    "    train_x = scaler.fit_transform(train_x)\n",
    "    test_x = scaler.transform(test_x)\n",
    "    \n",
    "    \n",
    "    return filtered_df, X, Y, train_x, test_x, train_y, test_y #Returns the train and test sets "
   ]
  },
  {
   "cell_type": "markdown",
   "metadata": {},
   "source": [
    "* **Function 2**"
   ]
  },
  {
   "cell_type": "markdown",
   "metadata": {},
   "source": [
    "`select_features(X_train, y_train, X_test)` : selects the best features for the model\n",
    "* __X_train__ - Training Set\n",
    "* __y_train__ - Target Variable in Training Set\n",
    "* __X_test__ - Test Set"
   ]
  },
  {
   "cell_type": "code",
   "execution_count": 774,
   "metadata": {},
   "outputs": [],
   "source": [
    "def select_features(X_train, y_train, X_test):\n",
    "    \n",
    "    # configure to select all features\n",
    "    fs = SelectKBest(score_func=f_classif, k='all')\n",
    "    \n",
    "    # learn relationship from training data\n",
    "    fs.fit(X_train, y_train)\n",
    "    \n",
    "    # transform train input data\n",
    "    X_train_fs = fs.transform(X_train)\n",
    "    \n",
    "    # transform test input data\n",
    "    X_test_fs = fs.transform(X_test)\n",
    "    \n",
    "    return X_train_fs, X_test_fs, fs"
   ]
  },
  {
   "cell_type": "markdown",
   "metadata": {},
   "source": [
    "* **Function 3**"
   ]
  },
  {
   "cell_type": "markdown",
   "metadata": {},
   "source": [
    "`diagnostics(df, y_true, y_pred)` : gets the diagnostics for the model (Linearity, Normality, Homoskedascity) \n",
    "* __df__ - dataset of choice\n",
    "* __y_true__ - True Values of Target Variable\n",
    "* __y_pred__ - Predicted Values of Target Variable"
   ]
  },
  {
   "cell_type": "code",
   "execution_count": 792,
   "metadata": {},
   "outputs": [],
   "source": [
    "def diagnostics(df, y_true, y_pred): \n",
    "    \n",
    "    #Tests for normality \n",
    "    statistic, p = shapiro(df) \n",
    "    alpha = 0.05\n",
    "    \n",
    "    print(\"Tests for Homoskedascity, Linearity & Normality : (Graph of Residual vs Predicted below)\")\n",
    "    \n",
    "    print(\"Shapiro-Wilk Test : \")\n",
    "    if p > alpha : \n",
    "        print(\"Sample is Normal (Accept H_o)\")\n",
    "        print(\"p-value larger than 0.05\")\n",
    "        \n",
    "    else:\n",
    "        print(\"Sample is not Normal (Reject H_o)\")\n",
    "        print(\"p-value smaller than 0.05\")\n",
    "    print('\\n')\n",
    "        \n",
    "        \n",
    "    #Tests for Homoskedascitiy & Linearity \n",
    "    \n",
    "    residual = y_true - y_pred #Residual = TrueValue - PredictedValue \n",
    "    \n",
    "    plt.plot(y_true, residual, 'o',color='green')\n",
    "    plt.xlabel(\"Predicted\")\n",
    "    plt.ylabel(\"Residuals\")\n",
    "    plt.title('Predicted vs Residuals')\n",
    "    plt.axhline(y=0)\n",
    "        "
   ]
  },
  {
   "cell_type": "markdown",
   "metadata": {},
   "source": [
    "* **Function 4**"
   ]
  },
  {
   "cell_type": "markdown",
   "metadata": {},
   "source": [
    "`regression(df, X, Y, train_x, test_x, train_y, test_y)` : Performs regression using OLS, Lasso, Ridge and gives the best model \n",
    "* __df__ - dataset of choice\n",
    "* __X__ - Dataframe of all features except target given by preprocess()\n",
    "* __Y__ - Dataframe of target given by preprocess()\n",
    "* __train_x__ - Train Set\n",
    "* __test_x__ - Test Set\n",
    "* __train_y__ - Target in Training Set\n",
    "* __test_y__ - Target in Test Set"
   ]
  },
  {
   "cell_type": "code",
   "execution_count": 776,
   "metadata": {},
   "outputs": [],
   "source": [
    "def regression(df, X, Y, train_x, test_x, train_y, test_y): \n",
    "    \n",
    "    #Linear Regression\n",
    "    OLS_model = LinearRegression() \n",
    "    OLS_model.fit(train_x,train_y) #Fitting train data to model \n",
    "    OLS_pred = OLS_model.predict(test_x) #Predicting on test data\n",
    "    \n",
    "        ######Metrics#######\n",
    "    OLS_mse = mean_squared_error(test_y,OLS_pred) #Mean Squared Error\n",
    "    OLS_rmse = np.sqrt(OLS_mse) #Root Mean Squared Error \n",
    "    OLS_r2 = r2_score(test_y,OLS_pred) #R-Squared \n",
    "    OLS_adjusted_r2 = 1 - (1-OLS_r2)*(len(Y)-1)/(len(Y)-X.shape[1]-1) #Adjusted R-Squared\n",
    "    \n",
    "\n",
    "\n",
    "    #Grid Parameters : alpha - 0.1 to 2 (increments of 0.1), 2 to 5 (increments of 0.5), 5 to 25 (increments of 1)\n",
    "    \n",
    "    \n",
    "    grid_params_Ridge = {'alpha': np.concatenate((np.arange(0.1,2,0.1), np.arange(2, 5, 0.5), np.arange(5, 25, 1))), \n",
    "                  'solver':['auto', 'svd', 'cholesky', 'lsqr', 'sparse_cg', 'sag', 'saga']} \n",
    "\n",
    "    \n",
    "    grid_params_Lasso = {'alpha': np.concatenate((np.arange(0.1,2,0.1), np.arange(2, 5, 0.5), np.arange(5, 25, 1))), \n",
    "                  'selection':['cyclic', 'random']} \n",
    "    \n",
    "    \n",
    "    #Ridge Regression\n",
    "    \n",
    "    ridge_model = Ridge()\n",
    "    ridge_gridCV = GridSearchCV(ridge_model,grid_params_Ridge,cv=10) #Cross Validation of 10 \n",
    "    ridge_gridCV.fit(train_x,train_y) #Fitting the train data to the model \n",
    "    ridge_pred = ridge_gridCV.predict(test_x) #Predicting on test data\n",
    "    \n",
    "        ######Metrics#######\n",
    "    ridge_mse = mean_squared_error(test_y,ridge_pred) #Mean Squared Error\n",
    "    ridge_rmse = np.sqrt(ridge_mse) #Root Mean Squared Error \n",
    "    ridge_r2 = r2_score(test_y,ridge_pred) #R-Squared \n",
    "    ridge_adjusted_r2 = 1 - (1-ridge_r2)*(len(Y)-1)/(len(Y)-X.shape[1]-1) #Adjusted R-Squared\n",
    "    \n",
    "\n",
    "    #Lasso Regression\n",
    "\n",
    "    lasso_model = Lasso()\n",
    "    lasso_gridCV = GridSearchCV(lasso_model,grid_params_Lasso,cv=10) #Cross Validation of 10 \n",
    "    lasso_gridCV.fit(train_x,train_y) #Fitting the train data to the model\n",
    "    lasso_pred = lasso_gridCV.predict(test_x) #Predicting on test data\n",
    "    \n",
    "        ######Metrics#######\n",
    "    lasso_mse = mean_squared_error(test_y,lasso_pred) #Mean Squared Error\n",
    "    lasso_rmse = np.sqrt(lasso_mse) #Root Mean Squared Error\n",
    "    lasso_r2 = r2_score(test_y,lasso_pred) #R-Squared \n",
    "    lasso_adjusted_r2 = 1 - (1-lasso_r2)*(len(Y)-1)/(len(Y)-X.shape[1]-1) #Adjusted R-Squared\n",
    "    \n",
    "    \n",
    "    metric_data = {'Model':['OLS','Ridge','Lasso'], 'RMSE':[OLS_rmse, ridge_rmse, lasso_rmse],\n",
    "                  'Adjusted_R2':[OLS_adjusted_r2,ridge_adjusted_r2,lasso_adjusted_r2]}\n",
    "\n",
    "    \n",
    "    metric_df = pd.DataFrame(metric_data)\n",
    "    \n",
    "    smallest_RMSE_idx = metric_df['RMSE'].argmin() #Index of which the smallest RMSE belongs to \n",
    "    \n",
    "    lowest_RMSE = metric_df.iloc[smallest_RMSE_idx] #Gets the item with the smallest RMSE \n",
    "    \n",
    "    #Produce diagnostics for the model with the lowest RMSE \n",
    "    \n",
    "    if smallest_RMSE_idx == 0: #If index at 0 (OLS)\n",
    "        result = diagnostics(df, test_y, OLS_pred)\n",
    "       \n",
    "        \n",
    "    elif smallest_RMSE_idx == 1: #If index at 1 (Ridge)\n",
    "        result = diagnostics(df, test_y, ridge_pred)\n",
    "        \n",
    "        \n",
    "    elif smallest_RMSE_idx == 2: #If index at 2 (Lasso)\n",
    "        result = diagnostics(df, test_y, lasso_pred)\n",
    "        \n",
    "        \n",
    "    return result, lowest_RMSE #Returns the diagnostic and the model with the lowest RMSE \n"
   ]
  },
  {
   "cell_type": "markdown",
   "metadata": {},
   "source": [
    "* **Function 5**"
   ]
  },
  {
   "cell_type": "markdown",
   "metadata": {},
   "source": [
    "`linear_regression(dataset,target,separator)` : function to put everything together into 1 function\n",
    "* __dataset__ - dataset of choice\n",
    "* __separator__ - how your data is separated ( __' ; '__ , __' , '__ , __' '__) , initially set to `none`\n",
    "* __target__ - target variable "
   ]
  },
  {
   "cell_type": "code",
   "execution_count": 777,
   "metadata": {},
   "outputs": [],
   "source": [
    "def linear_regression(dataset,target,separator = None): #df = dataframe \n",
    "    \n",
    "    df, X, Y, train_x, test_x, train_y, test_y = preprocess(dataset,target,separator) #Preprocess Data \n",
    "    \n",
    "    train_x_fs, test_x_fs, fs = select_features(train_x, train_y, test_x) #Performs Feature Selection\n",
    "    \n",
    "    model = regression(df, X, Y, train_x_fs, test_x_fs, train_y, test_y) #Performs regression methods \n",
    "    \n",
    "    print('Model with the lowest RMSE') \n",
    "    print(model[1], '\\n')\n",
    "    \n",
    "    print('Feature Scores : ') #Prints the feature scores \n",
    "    for i in range(len(fs.scores_)):\n",
    "        print('Feature %d: %f' % (i+1, fs.scores_[i]))\n",
    "    \n",
    "    return model #Returns the model\n",
    "    "
   ]
  },
  {
   "cell_type": "markdown",
   "metadata": {},
   "source": [
    "****"
   ]
  },
  {
   "cell_type": "markdown",
   "metadata": {},
   "source": [
    "### Applying the function"
   ]
  },
  {
   "cell_type": "markdown",
   "metadata": {},
   "source": [
    "The dataset I am using is called `redwine-quality.csv`,the target variable is `quality` and separated by a `;`. "
   ]
  },
  {
   "cell_type": "code",
   "execution_count": 793,
   "metadata": {
    "scrolled": false
   },
   "outputs": [
    {
     "name": "stderr",
     "output_type": "stream",
     "text": [
      "/Users/ksivanathan/opt/anaconda3/lib/python3.7/site-packages/sklearn/utils/validation.py:72: DataConversionWarning: A column-vector y was passed when a 1d array was expected. Please change the shape of y to (n_samples, ), for example using ravel().\n",
      "  return f(**kwargs)\n"
     ]
    },
    {
     "name": "stdout",
     "output_type": "stream",
     "text": [
      "Tests for Homoskedascity, Linearity & Normality : (Graph of Residual vs Predicted below)\n",
      "Shapiro-Wilk Test : \n",
      "Sample is not Normal (Reject H_o)\n",
      "p-value smaller than 0.05\n",
      "\n",
      "\n",
      "Model with the lowest RMSE\n",
      "Model             Ridge\n",
      "RMSE           0.619934\n",
      "Adjusted_R2    0.324003\n",
      "Name: 1, dtype: object \n",
      "\n",
      "Feature Scores : \n",
      "Feature 1: 6.212865\n",
      "Feature 2: 53.137455\n",
      "Feature 3: 17.608379\n",
      "Feature 4: 0.894496\n",
      "Feature 5: 4.419326\n",
      "Feature 6: 3.764465\n",
      "Feature 7: 21.109666\n",
      "Feature 8: 11.150978\n",
      "Feature 9: 3.763400\n",
      "Feature 10: 18.441685\n",
      "Feature 11: 93.381258\n"
     ]
    },
    {
     "name": "stderr",
     "output_type": "stream",
     "text": [
      "/Users/ksivanathan/opt/anaconda3/lib/python3.7/site-packages/scipy/stats/morestats.py:1676: UserWarning: p-value may not be accurate for N > 5000.\n",
      "  warnings.warn(\"p-value may not be accurate for N > 5000.\")\n"
     ]
    },
    {
     "data": {
      "image/png": "[encoded data removed]",
      "text/plain": [
       "<Figure size 432x288 with 1 Axes>"
      ]
     },
     "metadata": {
      "needs_background": "light"
     },
     "output_type": "display_data"
    }
   ],
   "source": [
    "model, result = linear_regression('redwine-quality.csv','quality',';')"
   ]
  },
  {
   "cell_type": "markdown",
   "metadata": {},
   "source": [
    "With the information returned to us, we can see that the model that performed the best in terms of the best predictive accuracy (lowest RMSE). In this case, the Ridge model performed the best. \n",
    "Moreover, the output also shows the feature scores, the higher the number indicates how important that feature is to our model. \n",
    "In addition, using the Shapiro-Wilk test it shows that our data is not normal as the p-value is not greater than 0.5 & the Predicted vs Residual shows us that the data is non linear as it does not follow any particular shape and also shows some possible outliers at the start and end of the plot. "
   ]
  }
 ],
 "metadata": {
  "kernelspec": {
   "display_name": "Python 3",
   "language": "python",
   "name": "python3"
  },
  "language_info": {
   "codemirror_mode": {
    "name": "ipython",
    "version": 3
   },
   "file_extension": ".py",
   "mimetype": "text/x-python",
   "name": "python",
   "nbconvert_exporter": "python",
   "pygments_lexer": "ipython3",
   "version": "3.7.6"
  }
 },
 "nbformat": 4,
 "nbformat_minor": 4
}
